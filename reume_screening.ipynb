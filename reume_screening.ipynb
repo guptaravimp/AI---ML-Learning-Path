{
 "cells": [
  {
   "cell_type": "code",
   "execution_count": 2,
   "id": "e3d21660-85a1-4225-bc0e-911280558498",
   "metadata": {},
   "outputs": [],
   "source": [
    "import pandas as pd\n",
    "import spacy\n",
    "from sklearn.feature_extraction.text import TfidfVectorizer\n",
    "from sklearn.metrics.pairwise import cosine_similarity\n",
    "import nltk\n",
    "from PyPDF2 import PdfReader\n",
    "from nltk.corpus import stopwords"
   ]
  },
  {
   "cell_type": "code",
   "execution_count": 3,
   "id": "06419c5e-7951-4216-bcf6-c562e5f01d38",
   "metadata": {},
   "outputs": [],
   "source": [
    "nlp = spacy.load('en_core_web_sm')"
   ]
  },
  {
   "cell_type": "code",
   "execution_count": 4,
   "id": "54c99e98-2f0a-4f45-8154-d74ffb09b168",
   "metadata": {},
   "outputs": [],
   "source": [
    "job_description = \"\"\"\n",
    "We are looking for a skilled software engineer to join our team. The ideal candidate should have proficiency in programming languages such as Python, Java, and C++. Experience with data structures, algorithms, and software development best practices is essential. Familiarity with web development frameworks such as React and Django is a plus.\n",
    "\"\"\""
   ]
  },
  {
   "cell_type": "code",
   "execution_count": 5,
   "id": "56f82461-951d-421a-a809-0191c54f685d",
   "metadata": {},
   "outputs": [
    {
     "data": {
      "text/plain": [
       "'\\nWe are looking for a skilled software engineer to join our team. The ideal candidate should have proficiency in programming languages such as Python, Java, and C++. Experience with data structures, algorithms, and software development best practices is essential. Familiarity with web development frameworks such as React and Django is a plus.\\n'"
      ]
     },
     "execution_count": 5,
     "metadata": {},
     "output_type": "execute_result"
    }
   ],
   "source": [
    "job_description"
   ]
  },
  {
   "cell_type": "code",
   "execution_count": 6,
   "id": "6f5f66b3-5132-42c7-8182-b5c94cb0da08",
   "metadata": {},
   "outputs": [],
   "source": [
    "def extract_text_from_pdf(file_path):\n",
    "    reader = PdfReader(file_path)\n",
    "    text = \"\"\n",
    "    for page in reader.pages:\n",
    "        text += page.extract_text()\n",
    "    return text"
   ]
  },
  {
   "cell_type": "code",
   "execution_count": 7,
   "id": "b04c50f4-e777-4550-a254-df3843a36a86",
   "metadata": {},
   "outputs": [
    {
     "ename": "SyntaxError",
     "evalue": "unmatched ']' (649873967.py, line 1)",
     "output_type": "error",
     "traceback": [
      "\u001b[1;36m  Cell \u001b[1;32mIn[7], line 1\u001b[1;36m\u001b[0m\n\u001b[1;33m    ]def preprocess_text(text):\u001b[0m\n\u001b[1;37m    ^\u001b[0m\n\u001b[1;31mSyntaxError\u001b[0m\u001b[1;31m:\u001b[0m unmatched ']'\n"
     ]
    }
   ],
   "source": [
    "]def preprocess_text(text):\n",
    "    if not text:\n",
    "        return \"\"\n",
    "    text = text.lower()\n",
    "    stop_words = set(stopwords.words('english'))\n",
    "    doc = nlp(text)\n",
    "    tokens = [token.text for token in doc if token.text.isalpha() and token.text not in stop_words]\n",
    "    return \" \".join(tokens)"
   ]
  },
  {
   "cell_type": "code",
   "execution_count": null,
   "id": "3ac29601-981a-4152-ad73-4f98838e7ca8",
   "metadata": {},
   "outputs": [],
   "source": [
    "df_resumes = pd.read_csv('resumes_500.csv')"
   ]
  },
  {
   "cell_type": "code",
   "execution_count": null,
   "id": "bbc9318f-6bd0-4f72-98f4-89d864fa3819",
   "metadata": {},
   "outputs": [],
   "source": [
    "df_resumes"
   ]
  },
  {
   "cell_type": "code",
   "execution_count": null,
   "id": "61451145-f507-4b50-ba1d-1d8ad7b7356c",
   "metadata": {},
   "outputs": [],
   "source": [
    "# Preprocess job description and resumes\n",
    "job_description_cleaned = preprocess_text(job_description)\n",
    "df_resumes['cleaned_resume'] = df_resumes['resume'].apply(preprocess_text)"
   ]
  },
  {
   "cell_type": "code",
   "execution_count": null,
   "id": "4dbf7ed2-6285-45da-aeba-5fbedc1ff573",
   "metadata": {},
   "outputs": [],
   "source": [
    "df_resumes"
   ]
  },
  {
   "cell_type": "code",
   "execution_count": null,
   "id": "604d7ca0-823d-45d8-9c05-da4927c506b2",
   "metadata": {},
   "outputs": [],
   "source": [
    "vectorizer = TfidfVectorizer()\n",
    "all_texts = [job_description_cleaned] + df_resumes['cleaned_resume'].tolist()\n",
    "tfidf_matrix = vectorizer.fit_transform(all_texts)"
   ]
  },
  {
   "cell_type": "code",
   "execution_count": null,
   "id": "8e7ff765-f552-42a7-a968-f75159e90b35",
   "metadata": {},
   "outputs": [],
   "source": [
    "cosine_similarities = cosine_similarity(tfidf_matrix[0:1], tfidf_matrix[1:])\n",
    "df_resumes['similarity_score'] = cosine_similarities[0]"
   ]
  },
  {
   "cell_type": "code",
   "execution_count": 11,
   "id": "8a3427c2-c262-4840-a744-fe259381c083",
   "metadata": {},
   "outputs": [
    {
     "ename": "NameError",
     "evalue": "name 'df_resumes' is not defined",
     "output_type": "error",
     "traceback": [
      "\u001b[1;31m---------------------------------------------------------------------------\u001b[0m",
      "\u001b[1;31mNameError\u001b[0m                                 Traceback (most recent call last)",
      "Cell \u001b[1;32mIn[11], line 1\u001b[0m\n\u001b[1;32m----> 1\u001b[0m df_resumes_sorted \u001b[38;5;241m=\u001b[39m \u001b[43mdf_resumes\u001b[49m\u001b[38;5;241m.\u001b[39msort_values(by\u001b[38;5;241m=\u001b[39m\u001b[38;5;124m'\u001b[39m\u001b[38;5;124msimilarity_score\u001b[39m\u001b[38;5;124m'\u001b[39m, ascending\u001b[38;5;241m=\u001b[39m\u001b[38;5;28;01mFalse\u001b[39;00m)\n",
      "\u001b[1;31mNameError\u001b[0m: name 'df_resumes' is not defined"
     ]
    }
   ],
   "source": [
    "df_resumes_sorted = df_resumes.sort_values(by='similarity_score', ascending=False)\n"
   ]
  },
  {
   "cell_type": "code",
   "execution_count": 10,
   "id": "810aab57-08a2-440b-847e-c48316f5c563",
   "metadata": {},
   "outputs": [
    {
     "ename": "NameError",
     "evalue": "name 'df_resumes_sorted' is not defined",
     "output_type": "error",
     "traceback": [
      "\u001b[1;31m---------------------------------------------------------------------------\u001b[0m",
      "\u001b[1;31mNameError\u001b[0m                                 Traceback (most recent call last)",
      "Cell \u001b[1;32mIn[10], line 1\u001b[0m\n\u001b[1;32m----> 1\u001b[0m \u001b[38;5;28mprint\u001b[39m(\u001b[43mdf_resumes_sorted\u001b[49m[[\u001b[38;5;124m'\u001b[39m\u001b[38;5;124mname\u001b[39m\u001b[38;5;124m'\u001b[39m, \u001b[38;5;124m'\u001b[39m\u001b[38;5;124msimilarity_score\u001b[39m\u001b[38;5;124m'\u001b[39m]])\n",
      "\u001b[1;31mNameError\u001b[0m: name 'df_resumes_sorted' is not defined"
     ]
    }
   ],
   "source": [
    "print(df_resumes_sorted[['name', 'similarity_score']])"
   ]
  },
  {
   "cell_type": "code",
   "execution_count": null,
   "id": "79f379b0-394e-4e6d-b9f4-32835fc9f963",
   "metadata": {},
   "outputs": [],
   "source": []
  }
 ],
 "metadata": {
  "kernelspec": {
   "display_name": "Python 3 (ipykernel)",
   "language": "python",
   "name": "python3"
  },
  "language_info": {
   "codemirror_mode": {
    "name": "ipython",
    "version": 3
   },
   "file_extension": ".py",
   "mimetype": "text/x-python",
   "name": "python",
   "nbconvert_exporter": "python",
   "pygments_lexer": "ipython3",
   "version": "3.12.4"
  }
 },
 "nbformat": 4,
 "nbformat_minor": 5
}
