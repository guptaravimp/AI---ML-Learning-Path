{
 "cells": [
  {
   "cell_type": "code",
   "execution_count": null,
   "id": "f94d3836-5446-40ef-8758-f33a2384d8e2",
   "metadata": {},
   "outputs": [],
   "source": [
    "import pandas as pd\n",
    "import numpy as np\n",
    "import nltk\n",
    "from nltk.sentiment import SentimentIntensityAnalyzer\n",
    "from sklearn.model_selection import train_test_split\n",
    "from sklearn.preprocessing import LabelEncoder, StandardScaler\n",
    "from sklearn.ensemble import RandomForestClassifier\n",
    "from sklearn.metrics import accuracy_score, classification_report\n",
    "\n",
    "\n",
    "nltk.download('vader_lexicon')\n",
    "sia = SentimentIntensityAnalyzer()\n",
    "\n",
    "data = pd.read_csv(\"employee_feedback.csv\")  # Load HR data (employee feedback + HR metrics)\n",
    "\n",
    "\n",
    "def get_sentiment_score(text):\n",
    "    if pd.isna(text):  # Handle missing feedback\n",
    "        return 0  # Neutral\n",
    "    return sia.polarity_scores(text)[\"compound\"]\n",
    "\n",
    "data[\"Sentiment_Score\"] = data[\"Feedback\"].apply(get_sentiment_score)\n",
    "\n",
    "encoder = LabelEncoder()\n",
    "data[\"Department\"] = encoder.fit_transform(data[\"Department\"])\n",
    "data[\"Job_Role\"] = encoder.fit_transform(data[\"Job_Role\"])\n",
    "\n",
    "scaler = StandardScaler()\n",
    "data[[\"Salary\", \"Work_Hours_Per_Week\"]] = scaler.fit_transform(data[[\"Salary\", \"Work_Hours_Per_Week\"]])\n",
    "\n",
    "X = data[[\"Department\", \"Job_Role\", \"Salary\", \"Work_Hours_Per_Week\", \"Sentiment_Score\"]]\n",
    "y = data[\"Attrition\"].map({\"Yes\": 1, \"No\": 0})  # Convert Attrition to binary (1 = Yes, 0 = No)\n",
    "\n",
    "X_train, X_test, y_train, y_test = train_test_split(X, y, test_size=0.2, random_state=42)\n",
    "\n",
    "model = RandomForestClassifier(n_estimators=100, random_state=42)\n",
    "model.fit(X_train, y_t\"rain)\n",
    "\n",
    "y_pred = model.predict(X_test)\n",
    "\n",
    "print(\"Model Accuracy:\", accuracy_score(y_test, y_pred))\n",
    "print(\"Classification Report:\\n\", classification_report(y_test, y_pred))\n"
   ]
  }
 ],
 "metadata": {
  "kernelspec": {
   "display_name": "Python 3 (ipykernel)",
   "language": "python",
   "name": "python3"
  },
  "language_info": {
   "codemirror_mode": {
    "name": "ipython",
    "version": 3
   },
   "file_extension": ".py",
   "mimetype": "text/x-python",
   "name": "python",
   "nbconvert_exporter": "python",
   "pygments_lexer": "ipython3",
   "version": "3.12.4"
  }
 },
 "nbformat": 4,
 "nbformat_minor": 5
}
