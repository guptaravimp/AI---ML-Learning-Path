{
 "cells": [
  {
   "cell_type": "code",
   "execution_count": 6,
   "id": "fe86a18a-42f6-4c78-bef5-09e4d7d81c7a",
   "metadata": {},
   "outputs": [
    {
     "ename": "ImportError",
     "evalue": "cannot import name 'stop_words' from 'nltk.corpus' (C:\\Python312\\Lib\\site-packages\\nltk\\corpus\\__init__.py)",
     "output_type": "error",
     "traceback": [
      "\u001b[1;31m---------------------------------------------------------------------------\u001b[0m",
      "\u001b[1;31mImportError\u001b[0m                               Traceback (most recent call last)",
      "Cell \u001b[1;32mIn[6], line 7\u001b[0m\n\u001b[0;32m      5\u001b[0m \u001b[38;5;28;01mimport\u001b[39;00m\u001b[38;5;250m \u001b[39m\u001b[38;5;21;01mnltk\u001b[39;00m\n\u001b[0;32m      6\u001b[0m \u001b[38;5;28;01mfrom\u001b[39;00m\u001b[38;5;250m \u001b[39m\u001b[38;5;21;01mPyPDF2\u001b[39;00m\u001b[38;5;250m \u001b[39m\u001b[38;5;28;01mimport\u001b[39;00m PdfReader\n\u001b[1;32m----> 7\u001b[0m \u001b[38;5;28;01mfrom\u001b[39;00m\u001b[38;5;250m \u001b[39m\u001b[38;5;21;01mnltk\u001b[39;00m\u001b[38;5;21;01m.\u001b[39;00m\u001b[38;5;21;01mcorpus\u001b[39;00m\u001b[38;5;250m \u001b[39m\u001b[38;5;28;01mimport\u001b[39;00m stop_words\n\u001b[0;32m      8\u001b[0m \u001b[38;5;28;01mimport\u001b[39;00m\u001b[38;5;250m \u001b[39m\u001b[38;5;21;01mnltk\u001b[39;00m\n\u001b[0;32m      9\u001b[0m \u001b[38;5;66;03m# Load the Spacy NLP model\u001b[39;00m\n",
      "\u001b[1;31mImportError\u001b[0m: cannot import name 'stop_words' from 'nltk.corpus' (C:\\Python312\\Lib\\site-packages\\nltk\\corpus\\__init__.py)"
     ]
    }
   ],
   "source": [
    "import pandas as pd\n",
    "import spacy\n",
    "from sklearn.feature_extraction.text import TfidfVectorizer\n",
    "from sklearn.metrics.pairwise import cosine_similarity\n",
    "import nltk\n",
    "from PyPDF2 import PdfReader\n",
    "from nltk.corpus import stop_words\n",
    "import nltk\n",
    "# Load the Spacy NLP model\n",
    "nlp = spacy.load('en_core_web_sm')\n",
    "\n",
    "# Sample Job Description\n",
    "job_description = \"\"\"\n",
    "We are looking for a skilled software engineer to join our team. The ideal candidate should have proficiency in programming languages such as Python, Java, and C++. Experience with data structures, algorithms, and software development best practices is essential. Familiarity with web development frameworks such as React and Django is a plus.\n",
    "\"\"\"\n",
    "\n",
    "# Function to extract text from PDF\n",
    "def extract_text_from_pdf(file_path):\n",
    "    reader = PdfReader(file_path)\n",
    "    text = \"\"\n",
    "    for page in reader.pages:\n",
    "        text += page.extract_text()\n",
    "    return text\n",
    "\n",
    "# Text Preprocessing function\n",
    "def preprocess_text(text):\n",
    "    if not text:\n",
    "        return \"\"\n",
    "    text = text.lower()\n",
    "    stop_words = set(stopwords.words('english'))\n",
    "    doc = nlp(text)\n",
    "    tokens = [token.text for token in doc if token.text.isalpha() and token.text not in stop_words]\n",
    "    return \" \".join(tokens)\n",
    "\n",
    "# Load resumes from CSV\n",
    "df_resumes = pd.read_csv('resumes_500.csv')\n",
    "\n",
    "# Preprocess job description and resumes\n",
    "job_description_cleaned = preprocess_text(job_description)\n",
    "df_resumes['cleaned_resume'] = df_resumes['resume'].apply(preprocess_text)\n",
    "\n",
    "# Vectorizing using TF-IDF\n",
    "vectorizer = TfidfVectorizer()\n",
    "all_texts = [job_description_cleaned] + df_resumes['cleaned_resume'].tolist()\n",
    "tfidf_matrix = vectorizer.fit_transform(all_texts)\n",
    "\n",
    "# Calculate cosine similarity\n",
    "cosine_similarities = cosine_similarity(tfidf_matrix[0:1], tfidf_matrix[1:])\n",
    "df_resumes['similarity_score'] = cosine_similarities[0]\n",
    "\n",
    "# Sort by similarity score\n",
    "df_resumes_sorted = df_resumes.sort_values(by='similarity_score', ascending=False)\n",
    "\n",
    "# Display sorted resumes\n",
    "print(df_resumes_sorted[['name', 'similarity_score']]. "
   ]
  },
  {
   "cell_type": "code",
   "execution_count": null,
   "id": "dd36c007-431f-4375-9d19-f6cbf32a397a",
   "metadata": {},
   "outputs": [],
   "source": []
  },
  {
   "cell_type": "code",
   "execution_count": null,
   "id": "d4fb3edf-a857-424d-819c-619fb7c37856",
   "metadata": {},
   "outputs": [],
   "source": []
  }
 ],
 "metadata": {
  "kernelspec": {
   "display_name": "Python 3 (ipykernel)",
   "language": "python",
   "name": "python3"
  },
  "language_info": {
   "codemirror_mode": {
    "name": "ipython",
    "version": 3
   },
   "file_extension": ".py",
   "mimetype": "text/x-python",
   "name": "python",
   "nbconvert_exporter": "python",
   "pygments_lexer": "ipython3",
   "version": "3.12.4"
  }
 },
 "nbformat": 4,
 "nbformat_minor": 5
}
